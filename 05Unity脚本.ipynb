{
 "cells": [
  {
   "cell_type": "markdown",
   "id": "ea19054e-7cd6-43ed-8220-6f445a6ccb6b",
   "metadata": {},
   "source": [
    "# 脚本\n",
    "<font size=4>挂游戏物体上指导物体行为的代码。  \n",
    "    1.继承  \n",
    "    （1）如果需要挂载在物体上使用，则必须继承monoBehavior类。  \n",
    "    2.命名  \n",
    "    （1）类名需要和脚本文件名保持一致。  \n",
    "    <img src=\"https://raw.githubusercontent.com/PsyLinkist/LearningBlogPics/master/20230217122443.png\" width=250/>  \n",
    "    3.运行机制  \n",
    "    （1）脚本是一个类，当挂载到物体上时，创建了一个对象。  \n",
    "    4.不要在脚本里写构造函数\n",
    "    </font>"
   ]
  },
  {
   "cell_type": "markdown",
   "id": "e7f8cb69-be9a-46c6-9bc0-2797b7776f7c",
   "metadata": {},
   "source": [
    "# 游戏对象  \n",
    "<font size=4>是一个集合（数组），装着脚本类对象的引用。"
   ]
  },
  {
   "cell_type": "markdown",
   "id": "b3f63a63-dfe6-4300-8f42-c3c590744168",
   "metadata": {},
   "source": [
    "# unity特性  \n",
    "<font size=4>编辑器访问 vs. 脚本访问 1_03  \n",
    "    **[SerializeField]** ：放在私有字段前，编辑器能访问，但其他脚本不能访问。  \n",
    "    **[HideInInspector]** ：放在公有字段前，编辑器不能访问，但其他脚本可以调用。  \n",
    "    **[Range()]** ：限制可调整的范围。\n",
    "    </font>\n",
    "    "
   ]
  },
  {
   "cell_type": "markdown",
   "id": "a754be09-c34c-443b-9581-5ddaa66ebe1c",
   "metadata": {
    "tags": []
   },
   "source": [
    "# 初始化  \n",
    "<font size=4>充当构造函数的作用。  \n",
    "    1.Awake()  \n",
    "    （1）游戏对象创建->立即执行。  \n",
    "    2.Start()  \n",
    "    （1）游戏对象创建->脚本启用->执行。  \n",
    "    3.OnEnable()  \n",
    "    （1）每次脚本对象启用->调用。"
   ]
  },
  {
   "cell_type": "markdown",
   "id": "73906cd9-6f93-4993-bb32-5550434c7117",
   "metadata": {},
   "source": [
    "# 物理阶段  \n",
    "<font size=4>在模拟物理环境时执行的函数。  \n",
    "    1.FixedUpdate()：固定间隔时间持续调用，用于对游戏对象做物理操作，例如移动等。  \n",
    "    （1）可以设置更新频率：Edit -> Project Seeting -> Time ->Fixed Timespet。  \n",
    "    （2）使对游戏对象的物理操作不会受到渲染影响。"
   ]
  },
  {
   "cell_type": "markdown",
   "id": "5acd9a46-dbc3-4405-b111-bd39b86b8d9d",
   "metadata": {},
   "source": [
    "# 游戏逻辑  \n",
    "<font size=4>1.Update()：处理游戏逻辑。  \n",
    "    （1）在渲染帧执行，执行间隔不固定。  \n",
    "    （2）因为逻辑在Update里，所以移动更适合放在这里，与其他逻辑关系适应。  \n",
    "    2.LateUpdate()：适用于更随逻辑。  \n",
    "    （1）与Update同一帧，但永远比Update慢。"
   ]
  },
  {
   "cell_type": "markdown",
   "id": "7c40fee3-5bb3-4c3f-a1c6-cca9b0b09573",
   "metadata": {},
   "source": [
    "# 输入事件  \n",
    "<font size=4> 见手册。"
   ]
  },
  {
   "cell_type": "markdown",
   "id": "a48857a4-8690-4d9e-99f8-489e6a918a2c",
   "metadata": {},
   "source": [
    "# 场景渲染  \n",
    "<font size=4>  摄像机看到/未看到时执行事件。  \n",
    "    1.OnBecameVisible：可见时调用。  \n",
    "    2.OnBecameInvisible：不可见时调用。"
   ]
  },
  {
   "cell_type": "markdown",
   "id": "4aecdfec-913a-46b4-9111-30dec0710a9a",
   "metadata": {},
   "source": [
    "# 结束阶段  \n",
    "<font size=4>三种结束。  \n",
    "    1.OnDisable：对象变为不可用，或附属游戏对象非激活状态时此函数被调用。  \n",
    "    2.OnDestroy：当脚本销毁，或附属游戏对象被销毁时调用。  \n",
    "    3.OnApplicationQuit：当应用程序退出时被调用。"
   ]
  },
  {
   "cell_type": "markdown",
   "id": "af1933bf-ca85-41e5-b771-d52672bd4d43",
   "metadata": {},
   "source": [
    "# 调试  \n",
    "<font size=4>通过开发工具测试，修正逻辑错误。  \n",
    "    1.控制台（Console）调试_1-07  \n",
    "    （1）Debug.Log(变量)：放在方法里，查看方法有没有运行。  \n",
    "    （2）**Clear**：清除记录；**Collapse**：合并相同项；**Clear on Play**：显示本次运行结果；**Error Pause**：遇到异常停止运行。  \n",
    "    2.通过设置变量，直接在Unity面板中显示。  \n",
    "    （1）对不断变化的值有奇效（比如Time.time）。  \n",
    "    3.start()调试过程中输入代码。_1-08  \n",
    "    （1）右键->**快速监视**，在快速监视里输入简单代码。  \n",
    "    （2）在**即时窗口**输入复杂代码。  \n",
    "    4.update()运行时调试（单帧调试）_1-08  \n",
    "    （1）VS调试->unity play，直到需要调试的位置暂停->VS加断点->Unity单帧运行->回VS调试。  \n",
    "    5.反编译源码  \n",
    "    （1）[ILPsy使用方法](https://blog.csdn.net/qq_35218523/article/details/103282177)\n",
    "    "
   ]
  },
  {
   "cell_type": "markdown",
   "id": "6b2a5da9-c560-4917-a7ca-d7bf07ff22a3",
   "metadata": {},
   "source": [
    "# 基本类  \n",
    "<font size=4>**Component**类提供了查找组件的功能  \n",
    "    1.GUIlayout。用于创建游戏界面，不过已经被废弃掉了，可以用作测试。p120_1-09  \n",
    "    2.this.transform。用于控制当前脚本挂载的GO的transform属性（包括position/rotation/scale）。  \n",
    "    3.this.getComponent<somecomponent>()。用于控制当前脚本挂载的GO的组件（component）。  \n",
    "    4.getComponentInChildren。用于获取子物体的组件。p121_1-10"
   ]
  }
 ],
 "metadata": {
  "kernelspec": {
   "display_name": "Python 3 (ipykernel)",
   "language": "python",
   "name": "python3"
  },
  "language_info": {
   "codemirror_mode": {
    "name": "ipython",
    "version": 3
   },
   "file_extension": ".py",
   "mimetype": "text/x-python",
   "name": "python",
   "nbconvert_exporter": "python",
   "pygments_lexer": "ipython3",
   "version": "3.8.13"
  }
 },
 "nbformat": 4,
 "nbformat_minor": 5
}
